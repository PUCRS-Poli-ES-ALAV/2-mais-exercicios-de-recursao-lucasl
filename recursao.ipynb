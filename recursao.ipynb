{
 "cells": [
  {
   "cell_type": "markdown",
   "metadata": {},
   "source": [
    "#Fatorial"
   ]
  },
  {
   "cell_type": "code",
   "execution_count": null,
   "metadata": {},
   "outputs": [
    {
     "name": "stdout",
     "output_type": "stream",
     "text": [
      "120\n"
     ]
    }
   ],
   "source": [
    "def Fatorial(a):\n",
    "    if (a == 0) or (a == 1):\n",
    "        return 1\n",
    "\n",
    "    return a * Fatorial (a-1)\n",
    "\n",
    "print(Fatorial(5))"
   ]
  },
  {
   "cell_type": "markdown",
   "metadata": {},
   "source": [
    "#Somatório"
   ]
  },
  {
   "cell_type": "code",
   "execution_count": null,
   "metadata": {},
   "outputs": [
    {
     "name": "stdout",
     "output_type": "stream",
     "text": [
      "15\n"
     ]
    }
   ],
   "source": [
    "def Somatorio(a):\n",
    "    if (a == 0):\n",
    "        return 0\n",
    "    \n",
    "    return a + Somatorio(a-1)\n",
    "\n",
    "print(Somatorio(5))"
   ]
  },
  {
   "cell_type": "markdown",
   "metadata": {},
   "source": [
    "#Fibonacci"
   ]
  },
  {
   "cell_type": "code",
   "execution_count": null,
   "metadata": {},
   "outputs": [
    {
     "name": "stdout",
     "output_type": "stream",
     "text": [
      "5\n"
     ]
    }
   ],
   "source": [
    "def Fibonacci(a):\n",
    "    if (a == 0):\n",
    "        return 0\n",
    "    \n",
    "    elif a == 1:\n",
    "        return 1\n",
    "    else: \n",
    "        return Fibonacci(a-1) + Fibonacci(a-2)\n",
    "\n",
    "print(Fibonacci(5))"
   ]
  },
  {
   "cell_type": "markdown",
   "metadata": {},
   "source": [
    "#Somatório Inteiros"
   ]
  },
  {
   "cell_type": "code",
   "execution_count": null,
   "metadata": {},
   "outputs": [
    {
     "name": "stdout",
     "output_type": "stream",
     "text": [
      "11\n"
     ]
    }
   ],
   "source": [
    "def SomaMeio (a,b):\n",
    "    if (a == b):\n",
    "        return 0\n",
    "    \n",
    "    if (a > b):\n",
    "        return 0\n",
    "\n",
    "    return a + SomaMeio(a+1,b-1)\n",
    "\n",
    "print(SomaMeio(5,8))"
   ]
  }
 ],
 "metadata": {
  "kernelspec": {
   "display_name": "Python 3",
   "language": "python",
   "name": "python3"
  },
  "language_info": {
   "codemirror_mode": {
    "name": "ipython",
    "version": 3
   },
   "file_extension": ".py",
   "mimetype": "text/x-python",
   "name": "python",
   "nbconvert_exporter": "python",
   "pygments_lexer": "ipython3",
   "version": "3.12.1"
  }
 },
 "nbformat": 4,
 "nbformat_minor": 2
}
